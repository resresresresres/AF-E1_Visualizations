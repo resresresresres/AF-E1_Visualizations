{
  "nbformat": 4,
  "nbformat_minor": 0,
  "metadata": {
    "colab": {
      "provenance": [],
      "authorship_tag": "ABX9TyMHphkOFD6S9IbL+WmzlC2l",
      "include_colab_link": true
    },
    "kernelspec": {
      "name": "python3",
      "display_name": "Python 3"
    },
    "language_info": {
      "name": "python"
    }
  },
  "cells": [
    {
      "cell_type": "markdown",
      "metadata": {
        "id": "view-in-github",
        "colab_type": "text"
      },
      "source": [
        "<a href=\"https://colab.research.google.com/github/skender85/AF-E1_Visualizations/blob/main/AF%26E1.ipynb\" target=\"_parent\"><img src=\"https://colab.research.google.com/assets/colab-badge.svg\" alt=\"Open In Colab\"/></a>"
      ]
    },
    {
      "cell_type": "markdown",
      "source": [
        "# AF&E1 Visualisierungen"
      ],
      "metadata": {
        "id": "_rmMBP4n68NC"
      }
    },
    {
      "cell_type": "markdown",
      "source": [
        "Frage 1: Anzahl Jahre Berufserfahrung der interviewten Personen"
      ],
      "metadata": {
        "id": "R6RSwXVO7Bvy"
      }
    },
    {
      "cell_type": "code",
      "execution_count": null,
      "metadata": {
        "id": "uFXnzinH6lon"
      },
      "outputs": [],
      "source": []
    }
  ]
}